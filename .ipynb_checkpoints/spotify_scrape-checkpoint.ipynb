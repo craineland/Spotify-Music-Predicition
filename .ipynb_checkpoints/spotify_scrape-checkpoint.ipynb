{
 "cells": [
  {
   "cell_type": "code",
   "execution_count": 4,
   "id": "conditional-marshall",
   "metadata": {},
   "outputs": [],
   "source": [
    "# imports\n",
    "import spotipy\n",
    "from spotipy.oauth2 import SpotifyClientCredentials\n",
    "import json"
   ]
  },
  {
   "cell_type": "code",
   "execution_count": 5,
   "id": "packed-regulation",
   "metadata": {},
   "outputs": [],
   "source": [
    "# keys for Spotify Developer Authorization\n",
    "credentials = json.load(open('authorization.json'))\n",
    "client_id = credentials['client_id']\n",
    "client_secret = credentials['client_secret']\n",
    "\n",
    "playlist_index = 0\n",
    "\n",
    "playlists = json.load(open('playlists_like_dislike.json'))\n",
    "playlist_uri = playlists[playlist_index]['uri']\n",
    "like = playlists[playlist_index]['like']"
   ]
  },
  {
   "cell_type": "code",
   "execution_count": 6,
   "id": "exciting-consequence",
   "metadata": {},
   "outputs": [],
   "source": [
    "client_credentials_manager = SpotifyClientCredentials(client_id=client_id,client_secret=client_secret)\n",
    "\n",
    "sp = spotipy.Spotify(client_credentials_manager=client_credentials_manager)"
   ]
  },
  {
   "cell_type": "code",
   "execution_count": 9,
   "id": "passive-navigation",
   "metadata": {},
   "outputs": [],
   "source": [
    "uri = playlist_uri    # the URI is split by ':' to get the username and playlist ID\n",
    "username = uri.split(':')[2]\n",
    "playlist_id = uri.split(':')[2]"
   ]
  },
  {
   "cell_type": "code",
   "execution_count": null,
   "id": "driving-arrangement",
   "metadata": {},
   "outputs": [],
   "source": [
    "results = sp.user_playlist(username, playlist_id, 'tracks')"
   ]
  },
  {
   "cell_type": "code",
   "execution_count": null,
   "id": "informal-palmer",
   "metadata": {},
   "outputs": [],
   "source": []
  }
 ],
 "metadata": {
  "kernelspec": {
   "display_name": "Python 3",
   "language": "python",
   "name": "python3"
  },
  "language_info": {
   "codemirror_mode": {
    "name": "ipython",
    "version": 3
   },
   "file_extension": ".py",
   "mimetype": "text/x-python",
   "name": "python",
   "nbconvert_exporter": "python",
   "pygments_lexer": "ipython3",
   "version": "3.8.5"
  }
 },
 "nbformat": 4,
 "nbformat_minor": 5
}
